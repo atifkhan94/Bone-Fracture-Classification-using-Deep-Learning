{
 "cells": [
  {
   "cell_type": "code",
   "execution_count": 1,
   "id": "0ef29ce0",
   "metadata": {
    "execution": {
     "iopub.execute_input": "2025-02-28T15:20:22.761813Z",
     "iopub.status.busy": "2025-02-28T15:20:22.761372Z",
     "iopub.status.idle": "2025-02-28T15:20:23.980886Z",
     "shell.execute_reply": "2025-02-28T15:20:23.979758Z"
    },
    "papermill": {
     "duration": 1.227664,
     "end_time": "2025-02-28T15:20:23.982971",
     "exception": false,
     "start_time": "2025-02-28T15:20:22.755307",
     "status": "completed"
    },
    "tags": []
   },
   "outputs": [],
   "source": [
    "import os\n",
    "import numpy as np\n",
    "import pandas as pd\n",
    "import matplotlib.pyplot as plt\n",
    "import cv2\n",
    "from pathlib import Path\n",
    "import pathlib\n"
   ]
  },
  {
   "cell_type": "code",
   "execution_count": 2,
   "id": "0383df72",
   "metadata": {
    "execution": {
     "iopub.execute_input": "2025-02-28T15:20:23.993206Z",
     "iopub.status.busy": "2025-02-28T15:20:23.992703Z",
     "iopub.status.idle": "2025-02-28T15:20:23.997064Z",
     "shell.execute_reply": "2025-02-28T15:20:23.996157Z"
    },
    "papermill": {
     "duration": 0.010989,
     "end_time": "2025-02-28T15:20:23.998527",
     "exception": false,
     "start_time": "2025-02-28T15:20:23.987538",
     "status": "completed"
    },
    "tags": []
   },
   "outputs": [],
   "source": [
    "data_dir = pathlib.Path('/kaggle/input/bone-fracture-detection-computer-vision-project/BoneFractureYolo8')"
   ]
  },
  {
   "cell_type": "code",
   "execution_count": 3,
   "id": "b5e00947",
   "metadata": {
    "execution": {
     "iopub.execute_input": "2025-02-28T15:20:24.008458Z",
     "iopub.status.busy": "2025-02-28T15:20:24.008130Z",
     "iopub.status.idle": "2025-02-28T15:20:24.012348Z",
     "shell.execute_reply": "2025-02-28T15:20:24.011461Z"
    },
    "papermill": {
     "duration": 0.010996,
     "end_time": "2025-02-28T15:20:24.014068",
     "exception": false,
     "start_time": "2025-02-28T15:20:24.003072",
     "status": "completed"
    },
    "tags": []
   },
   "outputs": [],
   "source": [
    "train_image_path = pathlib.Path(data_dir/'train/images')\n",
    "train_label_path = pathlib.Path(data_dir/'train/labels')"
   ]
  },
  {
   "cell_type": "code",
   "execution_count": 4,
   "id": "f673d4ba",
   "metadata": {
    "execution": {
     "iopub.execute_input": "2025-02-28T15:20:24.024026Z",
     "iopub.status.busy": "2025-02-28T15:20:24.023668Z",
     "iopub.status.idle": "2025-02-28T15:20:24.028735Z",
     "shell.execute_reply": "2025-02-28T15:20:24.027444Z"
    },
    "papermill": {
     "duration": 0.01192,
     "end_time": "2025-02-28T15:20:24.030347",
     "exception": false,
     "start_time": "2025-02-28T15:20:24.018427",
     "status": "completed"
    },
    "tags": []
   },
   "outputs": [
    {
     "name": "stdout",
     "output_type": "stream",
     "text": [
      "/kaggle/input/bone-fracture-detection-computer-vision-project/BoneFractureYolo8/train/images\n"
     ]
    }
   ],
   "source": [
    "print(train_image_path)"
   ]
  },
  {
   "cell_type": "code",
   "execution_count": 5,
   "id": "1b81ef73",
   "metadata": {
    "execution": {
     "iopub.execute_input": "2025-02-28T15:20:24.040445Z",
     "iopub.status.busy": "2025-02-28T15:20:24.040087Z",
     "iopub.status.idle": "2025-02-28T15:20:49.756094Z",
     "shell.execute_reply": "2025-02-28T15:20:49.754776Z"
    },
    "papermill": {
     "duration": 25.723213,
     "end_time": "2025-02-28T15:20:49.758031",
     "exception": false,
     "start_time": "2025-02-28T15:20:24.034818",
     "status": "completed"
    },
    "tags": []
   },
   "outputs": [
    {
     "name": "stdout",
     "output_type": "stream",
     "text": [
      "Loaded 1804 images and 1804 labels.\n"
     ]
    }
   ],
   "source": [
    "def get_sorted_files(image_dir, label_dir):\n",
    "\n",
    "\n",
    "    train_image_path = Path(image_dir)\n",
    "    train_label_path = Path(label_dir)\n",
    "    \n",
    "\n",
    "    image_files = sorted(train_image_path.glob('*.jpg'))\n",
    "    \n",
    "\n",
    "    label_files = sorted(train_label_path.glob('*.txt'))\n",
    "\n",
    "    return image_files, label_files\n",
    "\n",
    "def get_label(file_path):\n",
    "\n",
    "    with open(file_path, 'r') as file:\n",
    "        label_content = file.readline().strip()\n",
    "        if not label_content:  \n",
    "            return None\n",
    "        return int(label_content[0])  \n",
    "\n",
    "\n",
    "image_dir = '/kaggle/input/bone-fracture-detection-computer-vision-project/BoneFractureYolo8/train/images'\n",
    "label_dir = '/kaggle/input/bone-fracture-detection-computer-vision-project/BoneFractureYolo8/train/labels'\n",
    "\n",
    "\n",
    "image_files, label_files = get_sorted_files(image_dir, label_dir)\n",
    "\n",
    "\n",
    "images = []\n",
    "labels = []\n",
    "IMG_SIZE = 256\n",
    "\n",
    "\n",
    "for image_file, label_file in zip(image_files, label_files):\n",
    "\n",
    "    image_path = str(image_file)\n",
    "    label_path = str(label_file)\n",
    "    \n",
    "\n",
    "    label = get_label(label_path)\n",
    "    if label is None:  \n",
    "        continue\n",
    "    \n",
    "    \n",
    "    image = cv2.imread(image_path)\n",
    "    image = cv2.resize(image, (IMG_SIZE, IMG_SIZE))\n",
    "    images.append(image)\n",
    "    \n",
    "    \n",
    "    labels.append(label)\n",
    "\n",
    "\n",
    "images = np.array(images)\n",
    "labels = np.array(labels)\n",
    "\n",
    "print(f'Loaded {len(images)} images and {len(labels)} labels.')\n"
   ]
  },
  {
   "cell_type": "code",
   "execution_count": 6,
   "id": "c9e95eb6",
   "metadata": {
    "execution": {
     "iopub.execute_input": "2025-02-28T15:20:49.768602Z",
     "iopub.status.busy": "2025-02-28T15:20:49.768259Z",
     "iopub.status.idle": "2025-02-28T15:21:04.917246Z",
     "shell.execute_reply": "2025-02-28T15:21:04.915981Z"
    },
    "papermill": {
     "duration": 15.156181,
     "end_time": "2025-02-28T15:21:04.919044",
     "exception": false,
     "start_time": "2025-02-28T15:20:49.762863",
     "status": "completed"
    },
    "tags": []
   },
   "outputs": [
    {
     "name": "stdout",
     "output_type": "stream",
     "text": [
      "Class counts:\n",
      "Class_0    306.0\n",
      "Class_1    433.0\n",
      "Class_2    283.0\n",
      "Class_3    299.0\n",
      "Class_4    315.0\n",
      "Class_5    168.0\n",
      "dtype: float64\n"
     ]
    }
   ],
   "source": [
    "from tensorflow.keras.utils import to_categorical\n",
    "label_mapping = {0: 0, 1: 1, 2: 2, 4: 3, 5: 4, 6: 5}\n",
    "\n",
    "labels_mapped = np.array([label_mapping[label] for label in labels])\n",
    "labels_one_hot = to_categorical(labels_mapped, num_classes=6)\n",
    "\n",
    "df_labels = pd.DataFrame(labels_one_hot, columns=[f'Class_{i}' for i in range(6)])\n",
    "\n",
    "class_counts = df_labels.sum()\n",
    "\n",
    "print(\"Class counts:\")\n",
    "print(class_counts)\n"
   ]
  },
  {
   "cell_type": "code",
   "execution_count": 7,
   "id": "df3d946f",
   "metadata": {
    "execution": {
     "iopub.execute_input": "2025-02-28T15:21:04.929535Z",
     "iopub.status.busy": "2025-02-28T15:21:04.928917Z",
     "iopub.status.idle": "2025-02-28T15:21:06.134922Z",
     "shell.execute_reply": "2025-02-28T15:21:06.133948Z"
    },
    "papermill": {
     "duration": 1.21305,
     "end_time": "2025-02-28T15:21:06.136743",
     "exception": false,
     "start_time": "2025-02-28T15:21:04.923693",
     "status": "completed"
    },
    "tags": []
   },
   "outputs": [],
   "source": [
    "from sklearn.model_selection import train_test_split\n",
    "X_train, X_val, y_train, y_val = train_test_split(images, labels_mapped, test_size=0.2, stratify=labels_mapped)"
   ]
  },
  {
   "cell_type": "code",
   "execution_count": 8,
   "id": "12a7d5c0",
   "metadata": {
    "execution": {
     "iopub.execute_input": "2025-02-28T15:21:06.147681Z",
     "iopub.status.busy": "2025-02-28T15:21:06.146994Z",
     "iopub.status.idle": "2025-02-28T15:21:06.458911Z",
     "shell.execute_reply": "2025-02-28T15:21:06.457742Z"
    },
    "papermill": {
     "duration": 0.319605,
     "end_time": "2025-02-28T15:21:06.461038",
     "exception": false,
     "start_time": "2025-02-28T15:21:06.141433",
     "status": "completed"
    },
    "tags": []
   },
   "outputs": [
    {
     "data": {
      "text/plain": [
       "<matplotlib.image.AxesImage at 0x7f8481e13fd0>"
      ]
     },
     "execution_count": 8,
     "metadata": {},
     "output_type": "execute_result"
    },
    {
     "data": {
      "image/png": "[encoded data removed]",
      "text/plain": [
       "<Figure size 640x480 with 1 Axes>"
      ]
     },
     "metadata": {},
     "output_type": "display_data"
    }
   ],
   "source": [
    "plt.imshow(X_train[0])"
   ]
  },
  {
   "cell_type": "code",
   "execution_count": 9,
   "id": "cb353d1e",
   "metadata": {
    "execution": {
     "iopub.execute_input": "2025-02-28T15:21:06.474115Z",
     "iopub.status.busy": "2025-02-28T15:21:06.473759Z",
     "iopub.status.idle": "2025-02-28T15:21:06.479395Z",
     "shell.execute_reply": "2025-02-28T15:21:06.478414Z"
    },
    "papermill": {
     "duration": 0.014046,
     "end_time": "2025-02-28T15:21:06.481071",
     "exception": false,
     "start_time": "2025-02-28T15:21:06.467025",
     "status": "completed"
    },
    "tags": []
   },
   "outputs": [
    {
     "data": {
      "text/plain": [
       "1443"
      ]
     },
     "execution_count": 9,
     "metadata": {},
     "output_type": "execute_result"
    }
   ],
   "source": [
    "len(X_train)"
   ]
  },
  {
   "cell_type": "code",
   "execution_count": 10,
   "id": "59bcb5bf",
   "metadata": {
    "execution": {
     "iopub.execute_input": "2025-02-28T15:21:06.494116Z",
     "iopub.status.busy": "2025-02-28T15:21:06.493765Z",
     "iopub.status.idle": "2025-02-28T15:21:07.003671Z",
     "shell.execute_reply": "2025-02-28T15:21:07.002525Z"
    },
    "papermill": {
     "duration": 0.518338,
     "end_time": "2025-02-28T15:21:07.005404",
     "exception": false,
     "start_time": "2025-02-28T15:21:06.487066",
     "status": "completed"
    },
    "tags": []
   },
   "outputs": [
    {
     "name": "stdout",
     "output_type": "stream",
     "text": [
      "Training set size: 46\n",
      "Validation set size: 12\n",
      "One-hot encoded y_train shape: (1443, 6)\n",
      "One-hot encoded y_val shape: (361, 6)\n"
     ]
    }
   ],
   "source": [
    "import tensorflow as tf\n",
    "import keras\n",
    "from tensorflow.keras.preprocessing.image import ImageDataGenerator\n",
    "from tensorflow.keras.utils import to_categorical\n",
    "\n",
    "y_train_one_hot = to_categorical(y_train, num_classes=6)\n",
    "y_val_one_hot = to_categorical(y_val, num_classes=6)\n",
    "\n",
    "BATCH_SIZE = 32 \n",
    "\n",
    "\n",
    "datagen = ImageDataGenerator(rescale=1./255, validation_split=0.2)\n",
    "\n",
    "train_data = datagen.flow(X_train, y_train_one_hot, batch_size=BATCH_SIZE, shuffle=True)\n",
    "validation_data = datagen.flow(X_val, y_val_one_hot, batch_size=BATCH_SIZE)\n",
    "\n",
    "print(\"Training set size:\", len(train_data))\n",
    "print(\"Validation set size:\", len(validation_data))\n",
    "\n",
    "print(\"One-hot encoded y_train shape:\", y_train_one_hot.shape)\n",
    "print(\"One-hot encoded y_val shape:\", y_val_one_hot.shape)"
   ]
  },
  {
   "cell_type": "code",
   "execution_count": 11,
   "id": "cf4d40b7",
   "metadata": {
    "execution": {
     "iopub.execute_input": "2025-02-28T15:21:07.018712Z",
     "iopub.status.busy": "2025-02-28T15:21:07.018311Z",
     "iopub.status.idle": "2025-02-28T15:21:07.022648Z",
     "shell.execute_reply": "2025-02-28T15:21:07.021477Z"
    },
    "papermill": {
     "duration": 0.012862,
     "end_time": "2025-02-28T15:21:07.024389",
     "exception": false,
     "start_time": "2025-02-28T15:21:07.011527",
     "status": "completed"
    },
    "tags": []
   },
   "outputs": [],
   "source": [
    "# model = keras.models.Sequential([\n",
    "#     keras.layers.Input(shape=(IMG_SIZE, IMG_SIZE, 3)),\n",
    "#     keras.layers.Conv2D(32, 3, activation='relu'),\n",
    "#     keras.layers.Conv2D(64, 3, activation='relu'),\n",
    "#     keras.layers.MaxPool2D(),\n",
    "#     keras.layers.Conv2D(128, 3, activation='relu'),\n",
    "#     keras.layers.MaxPool2D(),\n",
    "#     keras.layers.Flatten(),\n",
    "#     keras.layers.Dropout(0.5),\n",
    "#     keras.layers.Dense(6, activation='softmax')\n",
    "# ])\n",
    "\n",
    "# model.summary()"
   ]
  },
  {
   "cell_type": "code",
   "execution_count": 12,
   "id": "15290dc4",
   "metadata": {
    "execution": {
     "iopub.execute_input": "2025-02-28T15:21:07.037983Z",
     "iopub.status.busy": "2025-02-28T15:21:07.037560Z",
     "iopub.status.idle": "2025-02-28T15:21:07.041712Z",
     "shell.execute_reply": "2025-02-28T15:21:07.040730Z"
    },
    "papermill": {
     "duration": 0.012984,
     "end_time": "2025-02-28T15:21:07.043409",
     "exception": false,
     "start_time": "2025-02-28T15:21:07.030425",
     "status": "completed"
    },
    "tags": []
   },
   "outputs": [],
   "source": [
    "# model.compile(\n",
    "#     loss=keras.losses.CategoricalCrossentropy(from_logits=False),\n",
    "#     optimizer=tf.keras.optimizers.Adam(),\n",
    "#     metrics=['accuracy']\n",
    "# )"
   ]
  },
  {
   "cell_type": "code",
   "execution_count": 13,
   "id": "07141f66",
   "metadata": {
    "execution": {
     "iopub.execute_input": "2025-02-28T15:21:07.056501Z",
     "iopub.status.busy": "2025-02-28T15:21:07.056145Z",
     "iopub.status.idle": "2025-02-28T15:21:07.155000Z",
     "shell.execute_reply": "2025-02-28T15:21:07.154024Z"
    },
    "papermill": {
     "duration": 0.107503,
     "end_time": "2025-02-28T15:21:07.156970",
     "exception": false,
     "start_time": "2025-02-28T15:21:07.049467",
     "status": "completed"
    },
    "tags": []
   },
   "outputs": [],
   "source": [
    "#to solve the overfitting increase the dropout to 0.6 and using regularizers and make the learning rate =0.0005\n",
    "\n",
    "from tensorflow.keras.callbacks import EarlyStopping\n",
    "from tensorflow.keras import regularizers\n",
    "\n",
    "model = keras.models.Sequential([\n",
    "    keras.layers.Input(shape=(IMG_SIZE, IMG_SIZE, 3)),\n",
    "    keras.layers.Conv2D(16, 3, activation='relu', kernel_regularizer=regularizers.l2(0.01)),\n",
    "    keras.layers.MaxPool2D(),\n",
    "    keras.layers.Flatten(),\n",
    "    keras.layers.Dropout(0.1),\n",
    "    keras.layers.Dense(6, activation='softmax')\n",
    "])"
   ]
  },
  {
   "cell_type": "code",
   "execution_count": 14,
   "id": "db953bf9",
   "metadata": {
    "execution": {
     "iopub.execute_input": "2025-02-28T15:21:07.170162Z",
     "iopub.status.busy": "2025-02-28T15:21:07.169807Z",
     "iopub.status.idle": "2025-02-28T15:21:07.189660Z",
     "shell.execute_reply": "2025-02-28T15:21:07.188544Z"
    },
    "papermill": {
     "duration": 0.028405,
     "end_time": "2025-02-28T15:21:07.191464",
     "exception": false,
     "start_time": "2025-02-28T15:21:07.163059",
     "status": "completed"
    },
    "tags": []
   },
   "outputs": [
    {
     "data": {
      "text/html": [
       "<pre style=\"white-space:pre;overflow-x:auto;line-height:normal;font-family:Menlo,'DejaVu Sans Mono',consolas,'Courier New',monospace\"><span style=\"font-weight: bold\">Model: \"sequential\"</span>\n",
       "</pre>\n"
      ],
      "text/plain": [
       "\u001b[1mModel: \"sequential\"\u001b[0m\n"
      ]
     },
     "metadata": {},
     "output_type": "display_data"
    },
    {
     "data": {
      "text/html": [
       "<pre style=\"white-space:pre;overflow-x:auto;line-height:normal;font-family:Menlo,'DejaVu Sans Mono',consolas,'Courier New',monospace\">┏━━━━━━━━━━━━━━━━━━━━━━━━━━━━━━━━━━━━━━┳━━━━━━━━━━━━━━━━━━━━━━━━━━━━━┳━━━━━━━━━━━━━━━━━┓\n",
       "┃<span style=\"font-weight: bold\"> Layer (type)                         </span>┃<span style=\"font-weight: bold\"> Output Shape                </span>┃<span style=\"font-weight: bold\">         Param # </span>┃\n",
       "┡━━━━━━━━━━━━━━━━━━━━━━━━━━━━━━━━━━━━━━╇━━━━━━━━━━━━━━━━━━━━━━━━━━━━━╇━━━━━━━━━━━━━━━━━┩\n",
       "│ conv2d (<span style=\"color: #0087ff; text-decoration-color: #0087ff\">Conv2D</span>)                      │ (<span style=\"color: #00d7ff; text-decoration-color: #00d7ff\">None</span>, <span style=\"color: #00af00; text-decoration-color: #00af00\">254</span>, <span style=\"color: #00af00; text-decoration-color: #00af00\">254</span>, <span style=\"color: #00af00; text-decoration-color: #00af00\">16</span>)        │             <span style=\"color: #00af00; text-decoration-color: #00af00\">448</span> │\n",
       "├──────────────────────────────────────┼─────────────────────────────┼─────────────────┤\n",
       "│ max_pooling2d (<span style=\"color: #0087ff; text-decoration-color: #0087ff\">MaxPooling2D</span>)         │ (<span style=\"color: #00d7ff; text-decoration-color: #00d7ff\">None</span>, <span style=\"color: #00af00; text-decoration-color: #00af00\">127</span>, <span style=\"color: #00af00; text-decoration-color: #00af00\">127</span>, <span style=\"color: #00af00; text-decoration-color: #00af00\">16</span>)        │               <span style=\"color: #00af00; text-decoration-color: #00af00\">0</span> │\n",
       "├──────────────────────────────────────┼─────────────────────────────┼─────────────────┤\n",
       "│ flatten (<span style=\"color: #0087ff; text-decoration-color: #0087ff\">Flatten</span>)                    │ (<span style=\"color: #00d7ff; text-decoration-color: #00d7ff\">None</span>, <span style=\"color: #00af00; text-decoration-color: #00af00\">258064</span>)              │               <span style=\"color: #00af00; text-decoration-color: #00af00\">0</span> │\n",
       "├──────────────────────────────────────┼─────────────────────────────┼─────────────────┤\n",
       "│ dropout (<span style=\"color: #0087ff; text-decoration-color: #0087ff\">Dropout</span>)                    │ (<span style=\"color: #00d7ff; text-decoration-color: #00d7ff\">None</span>, <span style=\"color: #00af00; text-decoration-color: #00af00\">258064</span>)              │               <span style=\"color: #00af00; text-decoration-color: #00af00\">0</span> │\n",
       "├──────────────────────────────────────┼─────────────────────────────┼─────────────────┤\n",
       "│ dense (<span style=\"color: #0087ff; text-decoration-color: #0087ff\">Dense</span>)                        │ (<span style=\"color: #00d7ff; text-decoration-color: #00d7ff\">None</span>, <span style=\"color: #00af00; text-decoration-color: #00af00\">6</span>)                   │       <span style=\"color: #00af00; text-decoration-color: #00af00\">1,548,390</span> │\n",
       "└──────────────────────────────────────┴─────────────────────────────┴─────────────────┘\n",
       "</pre>\n"
      ],
      "text/plain": [
       "┏━━━━━━━━━━━━━━━━━━━━━━━━━━━━━━━━━━━━━━┳━━━━━━━━━━━━━━━━━━━━━━━━━━━━━┳━━━━━━━━━━━━━━━━━┓\n",
       "┃\u001b[1m \u001b[0m\u001b[1mLayer (type)                        \u001b[0m\u001b[1m \u001b[0m┃\u001b[1m \u001b[0m\u001b[1mOutput Shape               \u001b[0m\u001b[1m \u001b[0m┃\u001b[1m \u001b[0m\u001b[1m        Param #\u001b[0m\u001b[1m \u001b[0m┃\n",
       "┡━━━━━━━━━━━━━━━━━━━━━━━━━━━━━━━━━━━━━━╇━━━━━━━━━━━━━━━━━━━━━━━━━━━━━╇━━━━━━━━━━━━━━━━━┩\n",
       "│ conv2d (\u001b[38;5;33mConv2D\u001b[0m)                      │ (\u001b[38;5;45mNone\u001b[0m, \u001b[38;5;34m254\u001b[0m, \u001b[38;5;34m254\u001b[0m, \u001b[38;5;34m16\u001b[0m)        │             \u001b[38;5;34m448\u001b[0m │\n",
       "├──────────────────────────────────────┼─────────────────────────────┼─────────────────┤\n",
       "│ max_pooling2d (\u001b[38;5;33mMaxPooling2D\u001b[0m)         │ (\u001b[38;5;45mNone\u001b[0m, \u001b[38;5;34m127\u001b[0m, \u001b[38;5;34m127\u001b[0m, \u001b[38;5;34m16\u001b[0m)        │               \u001b[38;5;34m0\u001b[0m │\n",
       "├──────────────────────────────────────┼─────────────────────────────┼─────────────────┤\n",
       "│ flatten (\u001b[38;5;33mFlatten\u001b[0m)                    │ (\u001b[38;5;45mNone\u001b[0m, \u001b[38;5;34m258064\u001b[0m)              │               \u001b[38;5;34m0\u001b[0m │\n",
       "├──────────────────────────────────────┼─────────────────────────────┼─────────────────┤\n",
       "│ dropout (\u001b[38;5;33mDropout\u001b[0m)                    │ (\u001b[38;5;45mNone\u001b[0m, \u001b[38;5;34m258064\u001b[0m)              │               \u001b[38;5;34m0\u001b[0m │\n",
       "├──────────────────────────────────────┼─────────────────────────────┼─────────────────┤\n",
       "│ dense (\u001b[38;5;33mDense\u001b[0m)                        │ (\u001b[38;5;45mNone\u001b[0m, \u001b[38;5;34m6\u001b[0m)                   │       \u001b[38;5;34m1,548,390\u001b[0m │\n",
       "└──────────────────────────────────────┴─────────────────────────────┴─────────────────┘\n"
      ]
     },
     "metadata": {},
     "output_type": "display_data"
    },
    {
     "data": {
      "text/html": [
       "<pre style=\"white-space:pre;overflow-x:auto;line-height:normal;font-family:Menlo,'DejaVu Sans Mono',consolas,'Courier New',monospace\"><span style=\"font-weight: bold\"> Total params: </span><span style=\"color: #00af00; text-decoration-color: #00af00\">1,548,838</span> (5.91 MB)\n",
       "</pre>\n"
      ],
      "text/plain": [
       "\u001b[1m Total params: \u001b[0m\u001b[38;5;34m1,548,838\u001b[0m (5.91 MB)\n"
      ]
     },
     "metadata": {},
     "output_type": "display_data"
    },
    {
     "data": {
      "text/html": [
       "<pre style=\"white-space:pre;overflow-x:auto;line-height:normal;font-family:Menlo,'DejaVu Sans Mono',consolas,'Courier New',monospace\"><span style=\"font-weight: bold\"> Trainable params: </span><span style=\"color: #00af00; text-decoration-color: #00af00\">1,548,838</span> (5.91 MB)\n",
       "</pre>\n"
      ],
      "text/plain": [
       "\u001b[1m Trainable params: \u001b[0m\u001b[38;5;34m1,548,838\u001b[0m (5.91 MB)\n"
      ]
     },
     "metadata": {},
     "output_type": "display_data"
    },
    {
     "data": {
      "text/html": [
       "<pre style=\"white-space:pre;overflow-x:auto;line-height:normal;font-family:Menlo,'DejaVu Sans Mono',consolas,'Courier New',monospace\"><span style=\"font-weight: bold\"> Non-trainable params: </span><span style=\"color: #00af00; text-decoration-color: #00af00\">0</span> (0.00 B)\n",
       "</pre>\n"
      ],
      "text/plain": [
       "\u001b[1m Non-trainable params: \u001b[0m\u001b[38;5;34m0\u001b[0m (0.00 B)\n"
      ]
     },
     "metadata": {},
     "output_type": "display_data"
    }
   ],
   "source": [
    "model.summary()"
   ]
  },
  {
   "cell_type": "code",
   "execution_count": 15,
   "id": "7efc07aa",
   "metadata": {
    "execution": {
     "iopub.execute_input": "2025-02-28T15:21:07.206409Z",
     "iopub.status.busy": "2025-02-28T15:21:07.206077Z",
     "iopub.status.idle": "2025-02-28T15:21:07.220195Z",
     "shell.execute_reply": "2025-02-28T15:21:07.219223Z"
    },
    "papermill": {
     "duration": 0.023784,
     "end_time": "2025-02-28T15:21:07.222097",
     "exception": false,
     "start_time": "2025-02-28T15:21:07.198313",
     "status": "completed"
    },
    "tags": []
   },
   "outputs": [],
   "source": [
    "model.compile(\n",
    "    optimizer=tf.keras.optimizers.Adam(learning_rate=0.0001),\n",
    "    loss='categorical_crossentropy',\n",
    "    metrics=['accuracy']\n",
    ")"
   ]
  },
  {
   "cell_type": "code",
   "execution_count": 16,
   "id": "299abf35",
   "metadata": {
    "execution": {
     "iopub.execute_input": "2025-02-28T15:21:07.236941Z",
     "iopub.status.busy": "2025-02-28T15:21:07.236547Z",
     "iopub.status.idle": "2025-02-28T15:23:47.502794Z",
     "shell.execute_reply": "2025-02-28T15:23:47.501723Z"
    },
    "papermill": {
     "duration": 160.275967,
     "end_time": "2025-02-28T15:23:47.504847",
     "exception": false,
     "start_time": "2025-02-28T15:21:07.228880",
     "status": "completed"
    },
    "tags": []
   },
   "outputs": [
    {
     "name": "stdout",
     "output_type": "stream",
     "text": [
      "Epoch 1/5\n"
     ]
    },
    {
     "name": "stderr",
     "output_type": "stream",
     "text": [
      "/usr/local/lib/python3.10/dist-packages/keras/src/trainers/data_adapters/py_dataset_adapter.py:122: UserWarning: Your `PyDataset` class should call `super().__init__(**kwargs)` in its constructor. `**kwargs` can include `workers`, `use_multiprocessing`, `max_queue_size`. Do not pass these arguments to `fit()`, as they will be ignored.\n",
      "  self._warn_if_super_not_called()\n"
     ]
    },
    {
     "name": "stdout",
     "output_type": "stream",
     "text": [
      "\u001b[1m46/46\u001b[0m \u001b[32m━━━━━━━━━━━━━━━━━━━━\u001b[0m\u001b[37m\u001b[0m \u001b[1m31s\u001b[0m 641ms/step - accuracy: 0.2166 - loss: 1.8827 - val_accuracy: 0.2798 - val_loss: 1.7691\n",
      "Epoch 2/5\n",
      "\u001b[1m46/46\u001b[0m \u001b[32m━━━━━━━━━━━━━━━━━━━━\u001b[0m\u001b[37m\u001b[0m \u001b[1m30s\u001b[0m 637ms/step - accuracy: 0.3741 - loss: 1.6404 - val_accuracy: 0.4377 - val_loss: 1.5681\n",
      "Epoch 3/5\n",
      "\u001b[1m46/46\u001b[0m \u001b[32m━━━━━━━━━━━━━━━━━━━━\u001b[0m\u001b[37m\u001b[0m \u001b[1m41s\u001b[0m 642ms/step - accuracy: 0.5338 - loss: 1.4372 - val_accuracy: 0.4072 - val_loss: 1.5288\n",
      "Epoch 4/5\n",
      "\u001b[1m46/46\u001b[0m \u001b[32m━━━━━━━━━━━━━━━━━━━━\u001b[0m\u001b[37m\u001b[0m \u001b[1m29s\u001b[0m 626ms/step - accuracy: 0.5564 - loss: 1.3239 - val_accuracy: 0.4931 - val_loss: 1.4765\n",
      "Epoch 5/5\n",
      "\u001b[1m46/46\u001b[0m \u001b[32m━━━━━━━━━━━━━━━━━━━━\u001b[0m\u001b[37m\u001b[0m \u001b[1m30s\u001b[0m 638ms/step - accuracy: 0.5945 - loss: 1.1844 - val_accuracy: 0.4848 - val_loss: 1.4166\n"
     ]
    }
   ],
   "source": [
    "early_stopping = EarlyStopping(monitor='val_loss', patience=3, restore_best_weights=True)\n",
    "\n",
    "history = model.fit(\n",
    "    train_data,\n",
    "    validation_data=validation_data,\n",
    "    epochs=5,\n",
    "    callbacks=[early_stopping]\n",
    ")"
   ]
  },
  {
   "cell_type": "code",
   "execution_count": 17,
   "id": "db8ccb10",
   "metadata": {
    "execution": {
     "iopub.execute_input": "2025-02-28T15:23:47.546393Z",
     "iopub.status.busy": "2025-02-28T15:23:47.546042Z",
     "iopub.status.idle": "2025-02-28T15:23:48.056912Z",
     "shell.execute_reply": "2025-02-28T15:23:48.055740Z"
    },
    "papermill": {
     "duration": 0.533367,
     "end_time": "2025-02-28T15:23:48.058658",
     "exception": false,
     "start_time": "2025-02-28T15:23:47.525291",
     "status": "completed"
    },
    "tags": []
   },
   "outputs": [
    {
     "data": {
      "image/png": "[encoded data removed]",
      "text/plain": [
       "<Figure size 640x480 with 1 Axes>"
      ]
     },
     "metadata": {},
     "output_type": "display_data"
    },
    {
     "data": {
      "image/png": "[encoded data removed]",
      "text/plain": [
       "<Figure size 640x480 with 1 Axes>"
      ]
     },
     "metadata": {},
     "output_type": "display_data"
    }
   ],
   "source": [
    "import matplotlib.pyplot as plt\n",
    "\n",
    "# Plot training & validation loss values\n",
    "plt.plot(history.history['loss'], label='Training Loss')\n",
    "plt.plot(history.history['val_loss'], label='Validation Loss')\n",
    "plt.title('Model Loss')\n",
    "plt.xlabel('Epoch')\n",
    "plt.ylabel('Loss')\n",
    "plt.legend()\n",
    "plt.show()\n",
    "\n",
    "# Plot training & validation accuracy values if accuracy was used as a metric\n",
    "if 'accuracy' in history.history:\n",
    "    plt.plot(history.history['accuracy'], label='Training Accuracy')\n",
    "    plt.plot(history.history['val_accuracy'], label='Validation Accuracy')\n",
    "    plt.title('Model Accuracy')\n",
    "    plt.xlabel('Epoch')\n",
    "    plt.ylabel('Accuracy')\n",
    "    plt.legend()\n",
    "    plt.show()"
   ]
  },
  {
   "cell_type": "code",
   "execution_count": null,
   "id": "9c0fffe3",
   "metadata": {
    "papermill": {
     "duration": 0.021087,
     "end_time": "2025-02-28T15:23:48.101809",
     "exception": false,
     "start_time": "2025-02-28T15:23:48.080722",
     "status": "completed"
    },
    "tags": []
   },
   "outputs": [],
   "source": []
  },
  {
   "cell_type": "code",
   "execution_count": null,
   "id": "7551dadb",
   "metadata": {
    "papermill": {
     "duration": 0.021121,
     "end_time": "2025-02-28T15:23:48.144497",
     "exception": false,
     "start_time": "2025-02-28T15:23:48.123376",
     "status": "completed"
    },
    "tags": []
   },
   "outputs": [],
   "source": []
  }
 ],
 "metadata": {
  "kaggle": {
   "accelerator": "none",
   "dataSources": [
    {
     "datasetId": 4296838,
     "sourceId": 8961495,
     "sourceType": "datasetVersion"
    }
   ],
   "dockerImageVersionId": 30918,
   "isGpuEnabled": false,
   "isInternetEnabled": true,
   "language": "python",
   "sourceType": "notebook"
  },
  "kernelspec": {
   "display_name": "Python 3",
   "language": "python",
   "name": "python3"
  },
  "language_info": {
   "codemirror_mode": {
    "name": "ipython",
    "version": 3
   },
   "file_extension": ".py",
   "mimetype": "text/x-python",
   "name": "python",
   "nbconvert_exporter": "python",
   "pygments_lexer": "ipython3",
   "version": "3.10.12"
  },
  "papermill": {
   "default_parameters": {},
   "duration": 210.802459,
   "end_time": "2025-02-28T15:23:50.748906",
   "environment_variables": {},
   "exception": null,
   "input_path": "__notebook__.ipynb",
   "output_path": "__notebook__.ipynb",
   "parameters": {},
   "start_time": "2025-02-28T15:20:19.946447",
   "version": "2.6.0"
  }
 },
 "nbformat": 4,
 "nbformat_minor": 5
}
